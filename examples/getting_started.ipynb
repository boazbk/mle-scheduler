{
 "cells": [
  {
   "cell_type": "markdown",
   "id": "08f9d077-64ed-4dc3-b772-498569e96d2b",
   "metadata": {
    "tags": []
   },
   "source": [
    "# `mle-launcher`: Lightweight Cluster/Cloud VM Job Scheduling 🚂\n",
    "### Author: [@RobertTLange](https://twitter.com/RobertTLange) [Last Update: October 2021][![Colab](https://colab.research.google.com/assets/colab-badge.svg)](https://colab.research.google.com/github/RobertTLange/mle-launcher/blob/main/examples/getting_started.ipynb)"
   ]
  },
  {
   "cell_type": "code",
   "execution_count": 1,
   "id": "b1ff5d35-b29e-4386-b423-9c83ad1ae169",
   "metadata": {},
   "outputs": [],
   "source": [
    "%load_ext autoreload\n",
    "%autoreload 2\n",
    "%config InlineBackend.figure_format = 'retina'\n",
    "\n",
    "try:\n",
    "    import mle_launcher\n",
    "except:\n",
    "    !pip install -q mle-launcher\n",
    "    import mle_launcher"
   ]
  },
  {
   "cell_type": "markdown",
   "id": "255b0522-6c4b-440d-8dca-345ba9e8a461",
   "metadata": {},
   "source": [
    "# Single Job Management with `MLEJob` 🚀"
   ]
  },
  {
   "cell_type": "code",
   "execution_count": 7,
   "id": "44a221b5-758b-491b-b206-65c3bddeeddb",
   "metadata": {},
   "outputs": [],
   "source": [
    "from mle_launcher import MLEJob\n",
    "\n",
    "# Launch a python train_mnist.py -config base_config.json job\n",
    "job = MLEJob(resource_to_run=\"slurm\",\n",
    "             job_filename=\"train.py\",\n",
    "             config_filename=\"base_config_1.json\")"
   ]
  },
  {
   "cell_type": "markdown",
   "id": "c74100d5-a957-4a7e-ae87-4a4626babdc4",
   "metadata": {},
   "source": [
    "# Job Queue Management with `MLEQueue` 🚀🚀🚀"
   ]
  },
  {
   "cell_type": "code",
   "execution_count": null,
   "id": "fed9e8a7-74fd-4725-9bd6-31106018069d",
   "metadata": {},
   "outputs": [],
   "source": [
    "from mle_launcher import MLEQueue\n",
    "\n",
    "# Launch a queue of 4 jobs (2 configs x 2 seeds)\n",
    "# python train_mnist.py -config base_config_1.json -seed 0\n",
    "# python train_mnist.py -config base_config_1.json -seed 1\n",
    "# python train_mnist.py -config base_config_2.json -seed 0\n",
    "# python train_mnist.py -config base_config_2.json -seed 1\n",
    "queue = MLEQueue(resource_to_run=\"slurm\",\n",
    "                 job_filename=\"train.py\",\n",
    "                 config_filenames=[\"base_config_1.json\",\n",
    "                                   \"base_config_2.json\"],\n",
    "                 random_seeds=[0, 1])"
   ]
  }
 ],
 "metadata": {
  "kernelspec": {
   "display_name": "Python3 (mle-toolbox)",
   "language": "python",
   "name": "mle-toolbox"
  },
  "language_info": {
   "codemirror_mode": {
    "name": "ipython",
    "version": 3
   },
   "file_extension": ".py",
   "mimetype": "text/x-python",
   "name": "python",
   "nbconvert_exporter": "python",
   "pygments_lexer": "ipython3",
   "version": "3.9.6"
  }
 },
 "nbformat": 4,
 "nbformat_minor": 5
}
