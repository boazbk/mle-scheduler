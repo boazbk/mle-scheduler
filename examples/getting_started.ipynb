{
 "cells": [
  {
   "cell_type": "markdown",
   "id": "08f9d077-64ed-4dc3-b772-498569e96d2b",
   "metadata": {
    "tags": []
   },
   "source": [
    "# `mle-scheduler`: Lightweight Cluster/Cloud Job Scheduling 🚂\n",
    "### Author: [@RobertTLange](https://twitter.com/RobertTLange) [Last Update: November 2021][![Colab](https://colab.research.google.com/assets/colab-badge.svg)](https://colab.research.google.com/github/RobertTLange/mle-scheduler/blob/main/examples/getting_started.ipynb)\n",
    "\n",
    "I really dislike having to write Slurm job submission files. It is tedious, I always forget something and copying old templates feelds cumbersome. What if instead there was a tool that would completely get rid of this manual work? A tool that would schedule jobs on different cluster and cloud resources with a minimal and intuitive job/resource description? The `mle-scheduler` package aims to exactly provide such a service for Slurm, OpenGridEngine and Google Cloud Platform VMs. But you can also use the scheduling utilities to launch multiple training runs on a local machine or on a set of SSH servers. It comes with two core functional pillars:\n",
    "\n",
    "- `MLEJob`: Launches and monitors a single job on a resource (Slurm, OpenGridEngine, GCP, etc.).\n",
    "- `MLEQueue`: Launches and monitors a queue of jobs with different training configurations or random seeds.\n",
    "\n",
    "In the remainder of this walkthrough we will first introduce the general logic locally and afterwards go through cluster, SSH and GCP-based jobs. Importantly, the `mle-scheduler` is part of the broader `mle-infrastructure` and comes with a set of handy built-in synergies. We will wrap-up by discussing these.\n",
    "\n",
    "![](https://github.com/mle-infrastructure/mle-scheduler/blob/main/docs/mle_scheduler_structure.png?raw=true)"
   ]
  },
  {
   "cell_type": "code",
   "execution_count": 1,
   "id": "b1ff5d35-b29e-4386-b423-9c83ad1ae169",
   "metadata": {},
   "outputs": [],
   "source": [
    "%load_ext autoreload\n",
    "%autoreload 2\n",
    "%config InlineBackend.figure_format = 'retina'\n",
    "\n",
    "try:\n",
    "    import mle_scheduler\n",
    "except:\n",
    "    !pip install -q mle-scheduler"
   ]
  },
  {
   "cell_type": "markdown",
   "id": "c93d0799-a069-48ad-a8c7-0f06f5a239c6",
   "metadata": {},
   "source": [
    "Let's start by setting up a simple problem. In the code snippet below we \"pseudo\"-train a network for 10 epochs and log the training run statistics using [`mle-logging`](https://github.com/mle-infrastructure/mle-logging). I like it - but you can use whatever logging setup you prefer. Importantly, there are three command line arguments that are being parsed at the start-up: `experiment_dir` (the main log directory), `config_fname` (the configuration file to be loaded), `seed_id` (the random number seed for reproduction)."
   ]
  },
  {
   "cell_type": "markdown",
   "id": "04cfa9ca-559b-487e-880e-de865279b353",
   "metadata": {},
   "source": [
    "```python\n",
    "from mle_logging import MLELogger, load_config\n",
    "\n",
    "\n",
    "def main(experiment_dir: str, config_fname: str, seed_id: int):\n",
    "    \"\"\"Example training 'loop' using MLE-Logging.\"\"\"\n",
    "    train_config = load_config(config_fname)\n",
    "    log = MLELogger(\n",
    "        experiment_dir=experiment_dir,\n",
    "        config_fname=config_fname,\n",
    "        seed_id=seed_id,\n",
    "        time_to_track=[\"num_epochs\"],\n",
    "        what_to_track=[\"train_loss\", \"test_loss\"],\n",
    "    )\n",
    "    for epoch in range(1, 11):\n",
    "        train_loss, test_loss = train_your_net(epoch, seed_id, **train_config)\n",
    "        log.update(\n",
    "            {\"num_epochs\": epoch},\n",
    "            {\"train_loss\": train_loss, \"test_loss\": test_loss},\n",
    "            save=True,\n",
    "        )\n",
    "        \n",
    "\n",
    "if __name__ == \"__main__\":\n",
    "    parser = argparse.ArgumentParser(description=\"Let's train a network.\")\n",
    "    parser.add_argument(\"-exp_dir\", \"--experiment_dir\", type=str)\n",
    "    parser.add_argument(\"-config\", \"--config_fname\", type=str)\n",
    "    parser.add_argument(\"-seed\", \"--seed_id\", type=int, default=1)\n",
    "    args = vars(parser.parse_args())\n",
    "    main(args[\"experiment_dir\"], args[\"config_fname\"], args[\"seed_id\"])\n",
    "```"
   ]
  },
  {
   "cell_type": "markdown",
   "id": "255b0522-6c4b-440d-8dca-345ba9e8a461",
   "metadata": {},
   "source": [
    "# Single Job Management with `MLEJob` 🚀"
   ]
  },
  {
   "cell_type": "code",
   "execution_count": 2,
   "id": "44a221b5-758b-491b-b206-65c3bddeeddb",
   "metadata": {},
   "outputs": [
    {
     "data": {
      "text/html": [
       "<pre style=\"white-space:pre;overflow-x:auto;line-height:normal;font-family:Menlo,'DejaVu Sans Mono',consolas,'Courier New',monospace\"><span style=\"color: #7fbfbf; text-decoration-color: #7fbfbf\">[12:54:54] </span><span style=\"color: #000080; text-decoration-color: #000080\">INFO    </span> PID: <span style=\"color: #000080; text-decoration-color: #000080; font-weight: bold\">79733</span> - Local job scheduled - base_config_1.yaml          <a href=\"file:///Users/rob/Dropbox/core-code/mle-infrastructure/mle-scheduler/mle_scheduler/job.py\"><span style=\"color: #7f7f7f; text-decoration-color: #7f7f7f\">job.py</span></a><span style=\"color: #7f7f7f; text-decoration-color: #7f7f7f\">:147</span>\n",
       "</pre>\n"
      ],
      "text/plain": [
       "<rich.jupyter.JupyterRenderable at 0x7ff1e87840d0>"
      ]
     },
     "metadata": {},
     "output_type": "display_data"
    },
    {
     "data": {
      "text/html": [
       "<pre style=\"white-space:pre;overflow-x:auto;line-height:normal;font-family:Menlo,'DejaVu Sans Mono',consolas,'Courier New',monospace\"><span style=\"color: #7fbfbf; text-decoration-color: #7fbfbf\">[12:54:57] </span><span style=\"color: #000080; text-decoration-color: #000080\">INFO    </span> PID: <span style=\"color: #000080; text-decoration-color: #000080; font-weight: bold\">79733</span> - Local job completed - base_config_1.yaml          <a href=\"file:///Users/rob/Dropbox/core-code/mle-infrastructure/mle-scheduler/mle_scheduler/job.py\"><span style=\"color: #7f7f7f; text-decoration-color: #7f7f7f\">job.py</span></a><span style=\"color: #7f7f7f; text-decoration-color: #7f7f7f\">:202</span>\n",
       "</pre>\n"
      ],
      "text/plain": [
       "<rich.jupyter.JupyterRenderable at 0x7ff1e8789040>"
      ]
     },
     "metadata": {},
     "output_type": "display_data"
    },
    {
     "data": {
      "text/plain": [
       "0"
      ]
     },
     "execution_count": 2,
     "metadata": {},
     "output_type": "execute_result"
    }
   ],
   "source": [
    "import logging\n",
    "from mle_scheduler import MLEJob\n",
    "\n",
    "# Launch python train.py -config base_config_1.yaml -exp_dir logs_single\n",
    "job = MLEJob(resource_to_run=\"local\",\n",
    "             job_filename=\"train.py\",\n",
    "             config_filename=\"base_config_1.yaml\",\n",
    "             experiment_dir=\"logs_single\",\n",
    "             logger_level=logging.INFO)\n",
    "\n",
    "job.run()"
   ]
  },
  {
   "cell_type": "markdown",
   "id": "229ca15b-c9a6-4807-8e81-2cc523369a58",
   "metadata": {
    "tags": []
   },
   "source": [
    "So how can you specify the resources that you would like to request/schedule for a job? This happens via the `job_arguments` option. It is a dictionary and depending on the resource you would like to run your job on, you have the following options: \n",
    "\n",
    "|| Local | SSH | Slurm           | SGE | GCP |\n",
    "|----|----|------------ | ------------ | ----------- | --------------- |\n",
    "|`env_name` | ✔️ | ✔️ | ✔️ | ✔️ | ❌\n",
    "\n",
    "All SSH-server/cloud-based jobs also have their designated `cloud_settings` and `ssh_settings`. You can also manually monitor the status of the a scheduled job:"
   ]
  },
  {
   "cell_type": "code",
   "execution_count": 3,
   "id": "e191f835-c110-42f8-bbec-44857399fa1f",
   "metadata": {},
   "outputs": [
    {
     "data": {
      "text/html": [
       "<pre style=\"white-space:pre;overflow-x:auto;line-height:normal;font-family:Menlo,'DejaVu Sans Mono',consolas,'Courier New',monospace\"><span style=\"color: #7fbfbf; text-decoration-color: #7fbfbf\">[12:55:04] </span><span style=\"color: #000080; text-decoration-color: #000080\">INFO    </span> PID: <span style=\"color: #000080; text-decoration-color: #000080; font-weight: bold\">79740</span> - Local job scheduled - base_config_1.yaml          <a href=\"file:///Users/rob/Dropbox/core-code/mle-infrastructure/mle-scheduler/mle_scheduler/job.py\"><span style=\"color: #7f7f7f; text-decoration-color: #7f7f7f\">job.py</span></a><span style=\"color: #7f7f7f; text-decoration-color: #7f7f7f\">:147</span>\n",
       "</pre>\n"
      ],
      "text/plain": [
       "<rich.jupyter.JupyterRenderable at 0x7ff1e87891c0>"
      ]
     },
     "metadata": {},
     "output_type": "display_data"
    },
    {
     "data": {
      "text/html": [
       "<pre style=\"white-space:pre;overflow-x:auto;line-height:normal;font-family:Menlo,'DejaVu Sans Mono',consolas,'Courier New',monospace\"><span style=\"color: #7fbfbf; text-decoration-color: #7fbfbf\">[12:55:07] </span><span style=\"color: #000080; text-decoration-color: #000080\">INFO    </span> PID: <span style=\"color: #000080; text-decoration-color: #000080; font-weight: bold\">79740</span> - Local job completed - base_config_1.yaml          <a href=\"file:///Users/rob/Dropbox/core-code/mle-infrastructure/mle-scheduler/mle_scheduler/job.py\"><span style=\"color: #7f7f7f; text-decoration-color: #7f7f7f\">job.py</span></a><span style=\"color: #7f7f7f; text-decoration-color: #7f7f7f\">:202</span>\n",
       "</pre>\n"
      ],
      "text/plain": [
       "<rich.jupyter.JupyterRenderable at 0x7ff1c8755c70>"
      ]
     },
     "metadata": {},
     "output_type": "display_data"
    }
   ],
   "source": [
    "job_id = job.schedule()\n",
    "while True:\n",
    "    status = job.monitor(job_id)\n",
    "    if status == 0:\n",
    "        break"
   ]
  },
  {
   "cell_type": "markdown",
   "id": "c74100d5-a957-4a7e-ae87-4a4626babdc4",
   "metadata": {},
   "source": [
    "# Job Queue Management with `MLEQueue` 🚀🚀🚀"
   ]
  },
  {
   "cell_type": "code",
   "execution_count": 4,
   "id": "fed9e8a7-74fd-4725-9bd6-31106018069d",
   "metadata": {},
   "outputs": [
    {
     "name": "stderr",
     "output_type": "stream",
     "text": [
      "100%|█████████████████████████████████████████████| 4/4 [00:02<00:00,  1.59it/s]     \n"
     ]
    }
   ],
   "source": [
    "from mle_scheduler import MLEQueue\n",
    "\n",
    "# Launch a queue of 4 jobs (2 configs x 2 seeds)\n",
    "# python train.py -config base_config_1.yaml -seed 0 -exp_dir logs_queue/<date>_base_config_1\n",
    "# python train.py -config base_config_1.yaml -seed 1 -exp_dir logs_queue/<date>_base_config_1\n",
    "# python train.py -config base_config_2.yaml -seed 0 -exp_dir logs_queue/<date>_base_config_2\n",
    "# python train.py -config base_config_2.yaml -seed 1 -exp_dir logs_queue/<date>_base_config_2\n",
    "queue = MLEQueue(resource_to_run=\"local\",\n",
    "                 job_filename=\"train.py\",\n",
    "                 config_filenames=[\"base_config_1.yaml\",\n",
    "                                   \"base_config_2.yaml\"],\n",
    "                 random_seeds=[0, 1],\n",
    "                 experiment_dir=\"logs_queue\")\n",
    "queue.run()"
   ]
  },
  {
   "cell_type": "markdown",
   "id": "8d1587b0-79cb-458b-b4b6-b6d062ade051",
   "metadata": {},
   "source": [
    "You can also control how many jobs to schedule at a given point in time. E.g. if you don't want more than 10 jobs to be running/queued at a time simply add the `max_running_jobs=<num_jobs>` option to the `MLEQueue`."
   ]
  },
  {
   "cell_type": "markdown",
   "id": "c77fef46-4d6c-41e0-80a9-55a823356135",
   "metadata": {},
   "source": [
    "# Launching a Slurm/GridEngine Cluster-based Job\n",
    "\n",
    "Now let's talk about launching jobs on your cluster. Importantly, we assume that you are currently on the headnode of your cluster which uses a standard shared file system. [In a future release I plan on adding the option to launch cluster jobs from your local machine - so stay tuned!]"
   ]
  },
  {
   "cell_type": "code",
   "execution_count": null,
   "id": "7bf46e2a-d35d-4b2c-97ba-14c22132dc6f",
   "metadata": {},
   "outputs": [],
   "source": [
    "job_args = {\n",
    "        \"partition\": \"standard\",\n",
    "        \"env_name\": \"mle-toolbox\",\n",
    "        \"use_conda_venv\": True,\n",
    "        \"num_logical_cores\": 1,\n",
    "        \"job_name\": \"test\",\n",
    "    }\n",
    "\n",
    "queue = MLEQueue(\n",
    "    resource_to_run=\"slurm-cluster\",\n",
    "    job_filename=\"train.py\",\n",
    "    config_filenames=[\"base_config_1.yaml\", \"base_config_2.yaml\"],\n",
    "    random_seeds=[0, 1],\n",
    "    experiment_dir=\"logs_queue_slurm\",\n",
    "    job_arguments=job_args,\n",
    ")\n",
    "queue.run()"
   ]
  },
  {
   "cell_type": "markdown",
   "id": "2fcbc8be-42d4-4fa0-b5be-0c614c4fcccb",
   "metadata": {},
   "source": [
    "# Launching an SSH Server-based Job\n",
    "\n",
    "Not every lab may have access to an institution-wide HPC. Instead you may be working with a set of servers, which you can access via SSH. The `mle-scheduler` also allows you to launch jobs in such situations. In order to do so you need to setup passwordless SSH access first. This can for example be done by following [these](https://linuxize.com/post/how-to-setup-passwordless-ssh-login/) instructions and will create a private key on your local machine (e.g. a file called `~.ssh/id_rsa`). You will have to provide this key path as well as your user name, server address, SSH port and the remote code directory in the `ssh_settings` which will be passed to the `MLEJob` & `MLEQueue` instances. This will allow us to establish a SSH connection using the [`paramiko`](https://github.com/paramiko/paramiko) client.\n",
    "\n",
    "In order to launch a job from your local machine on the remote server you will most likely first need to copy the code directory to the server. This can either be done manually using `scp` or using the `send_code_ssh` function. By default this will send the current working directory to `ssh_settings[\"remote_dir\"]`:"
   ]
  },
  {
   "cell_type": "code",
   "execution_count": 8,
   "id": "713854c7-6a45-4e9f-ada7-936c08862ec2",
   "metadata": {},
   "outputs": [],
   "source": [
    "from mle_scheduler.ssh import send_dir_ssh, copy_dir_ssh, delete_dir_ssh\n",
    "\n",
    "ssh_settings = {\"user_name\":\"RobTLange\",\n",
    "                \"pkey_path\": '~.ssh/id_rsa',\n",
    "                \"main_server\": 'cluster.ml.tu-berlin.de',\n",
    "                \"jump_server\": '',\n",
    "                \"ssh_port\": 22,\n",
    "                \"remote_dir\": \"mle-code-dir\"}\n",
    "\n",
    "# scp the current working directory to a mle-code-dir remote\n",
    "send_dir_ssh(ssh_settings)"
   ]
  },
  {
   "cell_type": "markdown",
   "id": "89f9e3b5-3073-4380-8b31-a54971fd00a8",
   "metadata": {},
   "source": [
    "Afterwards, we are ready to run the job on the SSH server by `ssh_settings` to our `MLEJob` instance. Once the job is completed the results can be copied back to your local machine using `copy_results_ssh` and the directory path storing the results. Finally, you can use `clean_up_ssh` to delete the previously copied code directory:"
   ]
  },
  {
   "cell_type": "code",
   "execution_count": 6,
   "id": "d6f54dab-dda0-45db-9992-49dbcedd65d2",
   "metadata": {},
   "outputs": [
    {
     "data": {
      "text/html": [
       "<pre style=\"white-space:pre;overflow-x:auto;line-height:normal;font-family:Menlo,'DejaVu Sans Mono',consolas,'Courier New',monospace\"><span style=\"color: #7fbfbf; text-decoration-color: #7fbfbf\">[12:55:56] </span><span style=\"color: #000080; text-decoration-color: #000080\">INFO    </span> PID: <span style=\"color: #000080; text-decoration-color: #000080; font-weight: bold\">3768011</span> - SSH job scheduled - base_config_1.yaml          <a href=\"file:///Users/rob/Dropbox/core-code/mle-infrastructure/mle-scheduler/mle_scheduler/job.py\"><span style=\"color: #7f7f7f; text-decoration-color: #7f7f7f\">job.py</span></a><span style=\"color: #7f7f7f; text-decoration-color: #7f7f7f\">:159</span>\n",
       "</pre>\n"
      ],
      "text/plain": [
       "<rich.jupyter.JupyterRenderable at 0x7ff2086d5820>"
      ]
     },
     "metadata": {},
     "output_type": "display_data"
    },
    {
     "name": "stderr",
     "output_type": "stream",
     "text": [
      "2021-11-10 12:56:02,077| ERROR   | Could not establish connection from local ('127.0.0.1', 55358) to remote ('cluster.ml.tu-berlin.de', 22) side of the tunnel: \n"
     ]
    },
    {
     "data": {
      "text/html": [
       "<pre style=\"white-space:pre;overflow-x:auto;line-height:normal;font-family:Menlo,'DejaVu Sans Mono',consolas,'Courier New',monospace\"><span style=\"color: #7fbfbf; text-decoration-color: #7fbfbf\">[12:56:03] </span><span style=\"color: #000080; text-decoration-color: #000080\">INFO    </span> SSH PID: <span style=\"color: #000080; text-decoration-color: #000080; font-weight: bold\">3768011</span> - SSH job completed - base_config_1.yaml      <a href=\"file:///Users/rob/Dropbox/core-code/mle-infrastructure/mle-scheduler/mle_scheduler/job.py\"><span style=\"color: #7f7f7f; text-decoration-color: #7f7f7f\">job.py</span></a><span style=\"color: #7f7f7f; text-decoration-color: #7f7f7f\">:195</span>\n",
       "</pre>\n"
      ],
      "text/plain": [
       "<rich.jupyter.JupyterRenderable at 0x7ff1e8c00160>"
      ]
     },
     "metadata": {},
     "output_type": "display_data"
    },
    {
     "name": "stderr",
     "output_type": "stream",
     "text": [
      "2021-11-10 12:56:14,130| ERROR   | Could not establish connection from local ('127.0.0.1', 55365) to remote ('cluster.ml.tu-berlin.de', 22) side of the tunnel: \n"
     ]
    }
   ],
   "source": [
    "job = MLEJob(resource_to_run=\"ssh-node\",\n",
    "             job_filename=\"train.py\",\n",
    "             config_filename=\"base_config_1.yaml\",\n",
    "             experiment_dir=\"logs_ssh_single\",\n",
    "             job_arguments={\"env_name\": \"mle-toolbox\",\n",
    "                            \"use_conda_venv\": True},\n",
    "             ssh_settings=ssh_settings,\n",
    "             logger_level=logging.INFO)\n",
    "\n",
    "job.run()\n",
    "\n",
    "# Copy over the results from the SSH server\n",
    "copy_dir_ssh(ssh_settings, remote_dir=\"mle-code-dir/logs_ssh_single\")\n",
    "\n",
    "# Delete the code directory on the SSH server\n",
    "delete_dir_ssh(ssh_settings)"
   ]
  },
  {
   "cell_type": "markdown",
   "id": "11814eb8-3c04-46fa-8967-91f6e599d1f5",
   "metadata": {},
   "source": [
    "If you would like to run a queue of jobs, you don't want to copy the same code directory over to the server each time. Instead, the `MLEQueue` will copy the directory (if desired) once at start-up and will delete it again once all jobs have terminated. Furthermore, it will automatically copy the results in to your local execution directory. Note that the error log messages don't have to bother us. They simply come from the ssh client needing a couple of attempts to establish a connection."
   ]
  },
  {
   "cell_type": "code",
   "execution_count": 7,
   "id": "0c99aa0c-461d-4ff6-8c59-cd88b0b2e187",
   "metadata": {},
   "outputs": [
    {
     "name": "stderr",
     "output_type": "stream",
     "text": [
      "2021-11-10 12:56:41,605| ERROR   | Could not establish connection from local ('127.0.0.1', 55374) to remote ('cluster.ml.tu-berlin.de', 22) side of the tunnel: \n",
      " 25%|███████████▎                                 | 1/4 [00:05<00:15,  5.21s/it]     2021-11-10 12:57:08,138| ERROR   | Could not establish connection from local ('127.0.0.1', 55386) to remote ('cluster.ml.tu-berlin.de', 22) side of the tunnel: \n",
      " 75%|█████████████████████████████████▊           | 3/4 [00:16<00:05,  5.65s/it]     2021-11-10 12:57:19,208| ERROR   | Could not establish connection from local ('127.0.0.1', 55393) to remote ('cluster.ml.tu-berlin.de', 22) side of the tunnel: \n",
      "100%|█████████████████████████████████████████████| 4/4 [00:22<00:00,  5.52s/it]     \n",
      "2021-11-10 12:57:30,143| ERROR   | Could not establish connection from local ('127.0.0.1', 55400) to remote ('cluster.ml.tu-berlin.de', 22) side of the tunnel: \n"
     ]
    }
   ],
   "source": [
    "ssh_settings[\"start_up_copy_dir\"] = True\n",
    "ssh_settings[\"clean_up_remote_dir\"] = True\n",
    "\n",
    "queue = MLEQueue(resource_to_run=\"ssh-node\",\n",
    "                 job_filename=\"train.py\",\n",
    "                 config_filenames=[\"base_config_1.yaml\",\n",
    "                                   \"base_config_2.yaml\"],\n",
    "                 random_seeds=[0, 1],\n",
    "                 experiment_dir=\"logs_ssh_queue\",\n",
    "                 job_arguments={\"env_name\": \"mle-toolbox\",\n",
    "                                \"use_conda_venv\": True},\n",
    "                 ssh_settings=ssh_settings)\n",
    "\n",
    "queue.run()"
   ]
  },
  {
   "cell_type": "markdown",
   "id": "104501cd-a40c-4409-8deb-75d6514647e8",
   "metadata": {},
   "source": [
    "# Launching a GCP VM-based Job\n",
    "\n",
    "Finally, let's talk about how to create GCP VM-based jobs using the `mle-scheduler`. This will require you to have already setup Google Cloud SDK and to have created a GCP project and a GCS bucket. Furthermore you will have to provide you `.json` authentication key path. If you don't have one yet, have a look [here](https://cloud.google.com/docs/authentication/getting-started). Alternatively, just make sure that the environment variable `GOOGLE_APPLICATION_CREDENTIALS` is set to the right path.\n",
    "\n",
    "As for the SSH server jobs we start by copying the code repository in a GCS bucket. In order to know where to sync these files to, you will need to provide the `project_name`, `bucket_name` and the name of the code directory in the bucket. Note that later on all generated results logs will also be stored in this GCS `remote_dir`:"
   ]
  },
  {
   "cell_type": "code",
   "execution_count": 9,
   "id": "c62df95a-bc3d-4609-848e-b8455f81255f",
   "metadata": {},
   "outputs": [],
   "source": [
    "# Import utility to copy local code directory to GCS bucket\n",
    "from mle_scheduler.cloud.gcp import send_dir_gcp, copy_dir_gcp, delete_dir_gcp\n",
    "\n",
    "cloud_settings = {\n",
    "        \"project_name\": \"mle-toolbox\",\n",
    "        \"bucket_name\": \"mle-protocol\",\n",
    "        \"remote_dir\": \"mle-code-dir\"\n",
    "    }\n",
    "\n",
    "# Send config file to remote machine - independent of code base!\n",
    "send_dir_gcp(cloud_settings)"
   ]
  },
  {
   "cell_type": "markdown",
   "id": "3244832d-4076-4ebe-9f05-3e64a3c82f94",
   "metadata": {},
   "source": [
    "At VM startup each of the individual GCP VM instances will `gsync` copy the code and install a `requirements.txt` file in a fresh Python virtual environment. By default the created VMs are [`n1-high-cpu` custom VMs](https://cloud.google.com/compute/docs/general-purpose-machines#n1-high-cpu) since they allow for GPU attachment. The `N1` VMs allow for 1, 2, 4, 8, 16, 32 & 48 logical cores (x2 with hyperthreading) and up to 624 GB of memory. Right now the GCP `MLEJob` will also by default setup a `c1-deeplearning-tf-2-4-cu110-v20210414-debian-10` image from the `ml-images` family, which comes with CUDA 11.0 drivers ready to go. In the future I plan on adding more flexibility to specify resource requests through the `mle-scheduler` and to support TPU VMs."
   ]
  },
  {
   "cell_type": "code",
   "execution_count": 10,
   "id": "4afd88a1-95d5-4dae-9f2a-a42ff9d74fed",
   "metadata": {},
   "outputs": [
    {
     "data": {
      "text/html": [
       "<pre style=\"white-space:pre;overflow-x:auto;line-height:normal;font-family:Menlo,'DejaVu Sans Mono',consolas,'Courier New',monospace\"><span style=\"color: #7fbfbf; text-decoration-color: #7fbfbf\">[12:59:20] </span><span style=\"color: #000080; text-decoration-color: #000080\">INFO    </span> VM Name: test-<span style=\"color: #000080; text-decoration-color: #000080; font-weight: bold\">20211110</span>-<span style=\"color: #000080; text-decoration-color: #000080; font-weight: bold\">125907</span>-<span style=\"color: #000080; text-decoration-color: #000080; font-weight: bold\">1423</span> - Cloud job scheduled -     <a href=\"file:///Users/rob/Dropbox/core-code/mle-infrastructure/mle-scheduler/mle_scheduler/job.py\"><span style=\"color: #7f7f7f; text-decoration-color: #7f7f7f\">job.py</span></a><span style=\"color: #7f7f7f; text-decoration-color: #7f7f7f\">:135</span>\n",
       "                    base_config_1.yaml                                                       \n",
       "</pre>\n"
      ],
      "text/plain": [
       "<rich.jupyter.JupyterRenderable at 0x7ff1f887cfa0>"
      ]
     },
     "metadata": {},
     "output_type": "display_data"
    },
    {
     "data": {
      "text/html": [
       "<pre style=\"white-space:pre;overflow-x:auto;line-height:normal;font-family:Menlo,'DejaVu Sans Mono',consolas,'Courier New',monospace\"><span style=\"color: #7fbfbf; text-decoration-color: #7fbfbf\">[13:04:18] </span><span style=\"color: #000080; text-decoration-color: #000080\">INFO    </span> VM Name: test-<span style=\"color: #000080; text-decoration-color: #000080; font-weight: bold\">20211110</span>-<span style=\"color: #000080; text-decoration-color: #000080; font-weight: bold\">125907</span>-<span style=\"color: #000080; text-decoration-color: #000080; font-weight: bold\">1423</span> - Cloud job completed -     <a href=\"file:///Users/rob/Dropbox/core-code/mle-infrastructure/mle-scheduler/mle_scheduler/job.py\"><span style=\"color: #7f7f7f; text-decoration-color: #7f7f7f\">job.py</span></a><span style=\"color: #7f7f7f; text-decoration-color: #7f7f7f\">:188</span>\n",
       "                    base_config_1.yaml                                                       \n",
       "</pre>\n"
      ],
      "text/plain": [
       "<rich.jupyter.JupyterRenderable at 0x7ff1e8c2e130>"
      ]
     },
     "metadata": {},
     "output_type": "display_data"
    },
    {
     "data": {
      "text/html": [
       "<pre style=\"white-space:pre;overflow-x:auto;line-height:normal;font-family:Menlo,'DejaVu Sans Mono',consolas,'Courier New',monospace\"><span style=\"color: #7fbfbf; text-decoration-color: #7fbfbf\">[13:06:03] </span><span style=\"color: #000080; text-decoration-color: #000080\">INFO    </span> Attempt <span style=\"color: #000080; text-decoration-color: #000080; font-weight: bold\">1</span>/<span style=\"color: #000080; text-decoration-color: #000080; font-weight: bold\">5</span> - Failed sending to GCloud Storage      <a href=\"file:///Users/rob/Dropbox/core-code/mle-infrastructure/mle-scheduler/mle_scheduler/cloud/gcp/file_manage_gcp.py\"><span style=\"color: #7f7f7f; text-decoration-color: #7f7f7f\">file_manage_gcp.py</span></a><span style=\"color: #7f7f7f; text-decoration-color: #7f7f7f\">:68</span>\n",
       "</pre>\n"
      ],
      "text/plain": [
       "<rich.jupyter.JupyterRenderable at 0x7ff1c8beeca0>"
      ]
     },
     "metadata": {},
     "output_type": "display_data"
    },
    {
     "data": {
      "text/html": [
       "<pre style=\"white-space:pre;overflow-x:auto;line-height:normal;font-family:Menlo,'DejaVu Sans Mono',consolas,'Courier New',monospace\"><span style=\"color: #7fbfbf; text-decoration-color: #7fbfbf\">           </span><span style=\"color: #000080; text-decoration-color: #000080\">INFO    </span> Attempt <span style=\"color: #000080; text-decoration-color: #000080; font-weight: bold\">2</span>/<span style=\"color: #000080; text-decoration-color: #000080; font-weight: bold\">5</span> - Failed sending to GCloud Storage      <a href=\"file:///Users/rob/Dropbox/core-code/mle-infrastructure/mle-scheduler/mle_scheduler/cloud/gcp/file_manage_gcp.py\"><span style=\"color: #7f7f7f; text-decoration-color: #7f7f7f\">file_manage_gcp.py</span></a><span style=\"color: #7f7f7f; text-decoration-color: #7f7f7f\">:68</span>\n",
       "</pre>\n"
      ],
      "text/plain": [
       "<rich.jupyter.JupyterRenderable at 0x7ff1c8beed00>"
      ]
     },
     "metadata": {},
     "output_type": "display_data"
    },
    {
     "data": {
      "text/html": [
       "<pre style=\"white-space:pre;overflow-x:auto;line-height:normal;font-family:Menlo,'DejaVu Sans Mono',consolas,'Courier New',monospace\"><span style=\"color: #7fbfbf; text-decoration-color: #7fbfbf\">           </span><span style=\"color: #000080; text-decoration-color: #000080\">INFO    </span> Attempt <span style=\"color: #000080; text-decoration-color: #000080; font-weight: bold\">3</span>/<span style=\"color: #000080; text-decoration-color: #000080; font-weight: bold\">5</span> - Failed sending to GCloud Storage      <a href=\"file:///Users/rob/Dropbox/core-code/mle-infrastructure/mle-scheduler/mle_scheduler/cloud/gcp/file_manage_gcp.py\"><span style=\"color: #7f7f7f; text-decoration-color: #7f7f7f\">file_manage_gcp.py</span></a><span style=\"color: #7f7f7f; text-decoration-color: #7f7f7f\">:68</span>\n",
       "</pre>\n"
      ],
      "text/plain": [
       "<rich.jupyter.JupyterRenderable at 0x7ff1c8beec70>"
      ]
     },
     "metadata": {},
     "output_type": "display_data"
    },
    {
     "data": {
      "text/html": [
       "<pre style=\"white-space:pre;overflow-x:auto;line-height:normal;font-family:Menlo,'DejaVu Sans Mono',consolas,'Courier New',monospace\"><span style=\"color: #7fbfbf; text-decoration-color: #7fbfbf\">           </span><span style=\"color: #000080; text-decoration-color: #000080\">INFO    </span> Attempt <span style=\"color: #000080; text-decoration-color: #000080; font-weight: bold\">4</span>/<span style=\"color: #000080; text-decoration-color: #000080; font-weight: bold\">5</span> - Failed sending to GCloud Storage      <a href=\"file:///Users/rob/Dropbox/core-code/mle-infrastructure/mle-scheduler/mle_scheduler/cloud/gcp/file_manage_gcp.py\"><span style=\"color: #7f7f7f; text-decoration-color: #7f7f7f\">file_manage_gcp.py</span></a><span style=\"color: #7f7f7f; text-decoration-color: #7f7f7f\">:68</span>\n",
       "</pre>\n"
      ],
      "text/plain": [
       "<rich.jupyter.JupyterRenderable at 0x7ff1c8beee20>"
      ]
     },
     "metadata": {},
     "output_type": "display_data"
    },
    {
     "data": {
      "text/html": [
       "<pre style=\"white-space:pre;overflow-x:auto;line-height:normal;font-family:Menlo,'DejaVu Sans Mono',consolas,'Courier New',monospace\"><span style=\"color: #7fbfbf; text-decoration-color: #7fbfbf\">           </span><span style=\"color: #000080; text-decoration-color: #000080\">INFO    </span> Attempt <span style=\"color: #000080; text-decoration-color: #000080; font-weight: bold\">5</span>/<span style=\"color: #000080; text-decoration-color: #000080; font-weight: bold\">5</span> - Failed sending to GCloud Storage      <a href=\"file:///Users/rob/Dropbox/core-code/mle-infrastructure/mle-scheduler/mle_scheduler/cloud/gcp/file_manage_gcp.py\"><span style=\"color: #7f7f7f; text-decoration-color: #7f7f7f\">file_manage_gcp.py</span></a><span style=\"color: #7f7f7f; text-decoration-color: #7f7f7f\">:68</span>\n",
       "</pre>\n"
      ],
      "text/plain": [
       "<rich.jupyter.JupyterRenderable at 0x7ff1c8beeeb0>"
      ]
     },
     "metadata": {},
     "output_type": "display_data"
    },
    {
     "ename": "UnboundLocalError",
     "evalue": "local variable 'bucket' referenced before assignment",
     "output_type": "error",
     "traceback": [
      "\u001b[0;31m---------------------------------------------------------------------------\u001b[0m",
      "\u001b[0;31mUnboundLocalError\u001b[0m                         Traceback (most recent call last)",
      "\u001b[0;32m/var/folders/y5/n8jxv2j53tb33c7f76r2prvc0000gn/T/ipykernel_79270/1810730822.py\u001b[0m in \u001b[0;36m<module>\u001b[0;34m\u001b[0m\n\u001b[1;32m     19\u001b[0m \u001b[0;34m\u001b[0m\u001b[0m\n\u001b[1;32m     20\u001b[0m \u001b[0;31m# Copy over the results from the SSH server\u001b[0m\u001b[0;34m\u001b[0m\u001b[0;34m\u001b[0m\u001b[0;34m\u001b[0m\u001b[0m\n\u001b[0;32m---> 21\u001b[0;31m \u001b[0mcopy_dir_gcp\u001b[0m\u001b[0;34m(\u001b[0m\u001b[0mcloud_settings\u001b[0m\u001b[0;34m,\u001b[0m \u001b[0mremote_dir\u001b[0m\u001b[0;34m=\u001b[0m\u001b[0;34m\"mle-code-dir/logs_gcp_single\"\u001b[0m\u001b[0;34m)\u001b[0m\u001b[0;34m\u001b[0m\u001b[0;34m\u001b[0m\u001b[0m\n\u001b[0m\u001b[1;32m     22\u001b[0m \u001b[0;34m\u001b[0m\u001b[0m\n\u001b[1;32m     23\u001b[0m \u001b[0;31m# Delete the code directory on the SSH server\u001b[0m\u001b[0;34m\u001b[0m\u001b[0;34m\u001b[0m\u001b[0;34m\u001b[0m\u001b[0m\n",
      "\u001b[0;32m~/Dropbox/core-code/mle-infrastructure/mle-scheduler/mle_scheduler/cloud/gcp/file_manage_gcp.py\u001b[0m in \u001b[0;36mcopy_dir_gcp\u001b[0;34m(gcs_settings, remote_dir, local_dir, number_of_connect_tries)\u001b[0m\n\u001b[1;32m     71\u001b[0m             )\n\u001b[1;32m     72\u001b[0m \u001b[0;34m\u001b[0m\u001b[0m\n\u001b[0;32m---> 73\u001b[0;31m     \u001b[0mblobs\u001b[0m \u001b[0;34m=\u001b[0m \u001b[0mbucket\u001b[0m\u001b[0;34m.\u001b[0m\u001b[0mlist_blobs\u001b[0m\u001b[0;34m(\u001b[0m\u001b[0mprefix\u001b[0m\u001b[0;34m=\u001b[0m\u001b[0mremote_dir\u001b[0m\u001b[0;34m)\u001b[0m  \u001b[0;31m# Get list of files\u001b[0m\u001b[0;34m\u001b[0m\u001b[0;34m\u001b[0m\u001b[0m\n\u001b[0m\u001b[1;32m     74\u001b[0m     \u001b[0mblobs\u001b[0m \u001b[0;34m=\u001b[0m \u001b[0mlist\u001b[0m\u001b[0;34m(\u001b[0m\u001b[0mblobs\u001b[0m\u001b[0;34m)\u001b[0m\u001b[0;34m\u001b[0m\u001b[0;34m\u001b[0m\u001b[0m\n\u001b[1;32m     75\u001b[0m \u001b[0;34m\u001b[0m\u001b[0m\n",
      "\u001b[0;31mUnboundLocalError\u001b[0m: local variable 'bucket' referenced before assignment"
     ]
    }
   ],
   "source": [
    "job_args = {\n",
    "    \"use_tpus\": 0,\n",
    "    \"num_gpus\": 0,\n",
    "    \"gpu_type\": \"nvidia-tesla-v100\"\n",
    "    \"num_logical_cores\": 1,\n",
    "    \"job_name\": \"test\"\n",
    "}\n",
    "\n",
    "job = MLEJob(\n",
    "    resource_to_run=\"gcp-cloud\",\n",
    "    job_filename=\"train.py\",\n",
    "    config_filename=\"base_config_1.yaml\",\n",
    "    experiment_dir=\"logs_gcp_single\",\n",
    "    job_arguments=job_args,\n",
    "    cloud_settings=cloud_settings,\n",
    "    logger_level=logging.INFO\n",
    ")\n",
    "\n",
    "job.run()\n",
    "\n",
    "# Copy over the results from the SSH server\n",
    "copy_dir_gcp(cloud_settings, remote_dir=\"mle-code-dir/logs_gcp_single\")\n",
    "\n",
    "# Delete the code directory on the SSH server\n",
    "delete_dir_gcp(cloud_settings)"
   ]
  },
  {
   "cell_type": "markdown",
   "id": "47a83178-3837-4c3b-a90a-4c491c007401",
   "metadata": {},
   "source": [
    "The `MLEJob` instance will create a GCP VM using the SDK syntax and automatically execute a command which looks like this:\n",
    "\n",
    "```\n",
    "gcloud compute instances create <job_name> --preemptible --zone=us-west1-a \\\n",
    "    --custom-cpu=2 \\\n",
    "    --custom-memory=6144MB \\\n",
    "    --custom-vm-type=n1 \\\n",
    "    --image=c1-deeplearning-tf-2-4-cu110-v20210414-debian-10 \\\n",
    "    --image-project=ml-images \\\n",
    "    --metadata-from-file=startup-script=<job_name>-<datetime>-startup.sh \\\n",
    "    --scopes=cloud-platform,storage-full \\\n",
    "    --boot-disk-size=128GB \\\n",
    "    --boot-disk-type=pd-standard \\\n",
    "    --no-user-output-enabled \\\n",
    "    --verbosity error\n",
    "```\n",
    "\n",
    "Again, for a single job you can copy over the results and delete the code stored in GCS bucket using `copy_dir_gcp` and `delete_dir_gcp`. \n",
    "\n",
    "The `MLEQueue` works as before for the SSH server setting and will take care of copying and cleaning up the code directory once all jobs have terminated successfully. Note that spawning many jobs simultaneously may be prohibited by your personal resource quota."
   ]
  },
  {
   "cell_type": "code",
   "execution_count": 26,
   "id": "2b6f48c6-d4fc-4888-b7a1-f0c6a8742a7c",
   "metadata": {},
   "outputs": [
    {
     "name": "stderr",
     "output_type": "stream",
     "text": [
      "100%|█████████████████████████████████████████████| 4/4 [04:43<00:00, 70.94s/it]     \n"
     ]
    },
    {
     "name": "stdout",
     "output_type": "stream",
     "text": [
      "logs_gcp_queue/21-11-10_base_config_1 logs_gcp_queue/21-11-10_base_config_1/21-11-10_base_config_1.yaml\n",
      "logs_gcp_queue/21-11-10_base_config_1/logs logs_gcp_queue/21-11-10_base_config_1/logs/log_seed_0.hdf5\n",
      "logs_gcp_queue/21-11-10_base_config_1/logs logs_gcp_queue/21-11-10_base_config_1/logs/log_seed_1.hdf5\n",
      "logs_gcp_queue/21-11-10_base_config_2 logs_gcp_queue/21-11-10_base_config_2/21-11-10_base_config_2.yaml\n",
      "logs_gcp_queue/21-11-10_base_config_2/logs logs_gcp_queue/21-11-10_base_config_2/logs/log_seed_0.hdf5\n",
      "logs_gcp_queue/21-11-10_base_config_2/logs logs_gcp_queue/21-11-10_base_config_2/logs/log_seed_1.hdf5\n"
     ]
    },
    {
     "data": {
      "text/html": [
       "<pre style=\"white-space:pre;overflow-x:auto;line-height:normal;font-family:Menlo,'DejaVu Sans Mono',consolas,'Courier New',monospace\"><span style=\"color: #7fbfbf; text-decoration-color: #7fbfbf\">[13:36:43] </span><span style=\"color: #000080; text-decoration-color: #000080\">INFO    </span> Attempt <span style=\"color: #000080; text-decoration-color: #000080; font-weight: bold\">1</span>/<span style=\"color: #000080; text-decoration-color: #000080; font-weight: bold\">5</span> - Failed sending to GCloud Storage     <a href=\"file:///Users/rob/Dropbox/core-code/mle-infrastructure/mle-scheduler/mle_scheduler/cloud/gcp/file_manage_gcp.py\"><span style=\"color: #7f7f7f; text-decoration-color: #7f7f7f\">file_manage_gcp.py</span></a><span style=\"color: #7f7f7f; text-decoration-color: #7f7f7f\">:118</span>\n",
       "</pre>\n"
      ],
      "text/plain": [
       "<rich.jupyter.JupyterRenderable at 0x7ff1e8c327f0>"
      ]
     },
     "metadata": {},
     "output_type": "display_data"
    },
    {
     "data": {
      "text/html": [
       "<pre style=\"white-space:pre;overflow-x:auto;line-height:normal;font-family:Menlo,'DejaVu Sans Mono',consolas,'Courier New',monospace\"><span style=\"color: #7fbfbf; text-decoration-color: #7fbfbf\">           </span><span style=\"color: #000080; text-decoration-color: #000080\">INFO    </span> Attempt <span style=\"color: #000080; text-decoration-color: #000080; font-weight: bold\">2</span>/<span style=\"color: #000080; text-decoration-color: #000080; font-weight: bold\">5</span> - Failed sending to GCloud Storage     <a href=\"file:///Users/rob/Dropbox/core-code/mle-infrastructure/mle-scheduler/mle_scheduler/cloud/gcp/file_manage_gcp.py\"><span style=\"color: #7f7f7f; text-decoration-color: #7f7f7f\">file_manage_gcp.py</span></a><span style=\"color: #7f7f7f; text-decoration-color: #7f7f7f\">:118</span>\n",
       "</pre>\n"
      ],
      "text/plain": [
       "<rich.jupyter.JupyterRenderable at 0x7ff1e8c32fa0>"
      ]
     },
     "metadata": {},
     "output_type": "display_data"
    },
    {
     "data": {
      "text/html": [
       "<pre style=\"white-space:pre;overflow-x:auto;line-height:normal;font-family:Menlo,'DejaVu Sans Mono',consolas,'Courier New',monospace\"><span style=\"color: #7fbfbf; text-decoration-color: #7fbfbf\">           </span><span style=\"color: #000080; text-decoration-color: #000080\">INFO    </span> Attempt <span style=\"color: #000080; text-decoration-color: #000080; font-weight: bold\">3</span>/<span style=\"color: #000080; text-decoration-color: #000080; font-weight: bold\">5</span> - Failed sending to GCloud Storage     <a href=\"file:///Users/rob/Dropbox/core-code/mle-infrastructure/mle-scheduler/mle_scheduler/cloud/gcp/file_manage_gcp.py\"><span style=\"color: #7f7f7f; text-decoration-color: #7f7f7f\">file_manage_gcp.py</span></a><span style=\"color: #7f7f7f; text-decoration-color: #7f7f7f\">:118</span>\n",
       "</pre>\n"
      ],
      "text/plain": [
       "<rich.jupyter.JupyterRenderable at 0x7ff1e8c327f0>"
      ]
     },
     "metadata": {},
     "output_type": "display_data"
    },
    {
     "data": {
      "text/html": [
       "<pre style=\"white-space:pre;overflow-x:auto;line-height:normal;font-family:Menlo,'DejaVu Sans Mono',consolas,'Courier New',monospace\"><span style=\"color: #7fbfbf; text-decoration-color: #7fbfbf\">           </span><span style=\"color: #000080; text-decoration-color: #000080\">INFO    </span> Attempt <span style=\"color: #000080; text-decoration-color: #000080; font-weight: bold\">4</span>/<span style=\"color: #000080; text-decoration-color: #000080; font-weight: bold\">5</span> - Failed sending to GCloud Storage     <a href=\"file:///Users/rob/Dropbox/core-code/mle-infrastructure/mle-scheduler/mle_scheduler/cloud/gcp/file_manage_gcp.py\"><span style=\"color: #7f7f7f; text-decoration-color: #7f7f7f\">file_manage_gcp.py</span></a><span style=\"color: #7f7f7f; text-decoration-color: #7f7f7f\">:118</span>\n",
       "</pre>\n"
      ],
      "text/plain": [
       "<rich.jupyter.JupyterRenderable at 0x7ff208a51370>"
      ]
     },
     "metadata": {},
     "output_type": "display_data"
    },
    {
     "data": {
      "text/html": [
       "<pre style=\"white-space:pre;overflow-x:auto;line-height:normal;font-family:Menlo,'DejaVu Sans Mono',consolas,'Courier New',monospace\"><span style=\"color: #7fbfbf; text-decoration-color: #7fbfbf\">           </span><span style=\"color: #000080; text-decoration-color: #000080\">INFO    </span> Attempt <span style=\"color: #000080; text-decoration-color: #000080; font-weight: bold\">5</span>/<span style=\"color: #000080; text-decoration-color: #000080; font-weight: bold\">5</span> - Failed sending to GCloud Storage     <a href=\"file:///Users/rob/Dropbox/core-code/mle-infrastructure/mle-scheduler/mle_scheduler/cloud/gcp/file_manage_gcp.py\"><span style=\"color: #7f7f7f; text-decoration-color: #7f7f7f\">file_manage_gcp.py</span></a><span style=\"color: #7f7f7f; text-decoration-color: #7f7f7f\">:118</span>\n",
       "</pre>\n"
      ],
      "text/plain": [
       "<rich.jupyter.JupyterRenderable at 0x7ff1e8c32fa0>"
      ]
     },
     "metadata": {},
     "output_type": "display_data"
    },
    {
     "ename": "UnboundLocalError",
     "evalue": "local variable 'bucket' referenced before assignment",
     "output_type": "error",
     "traceback": [
      "\u001b[0;31m---------------------------------------------------------------------------\u001b[0m",
      "\u001b[0;31mUnboundLocalError\u001b[0m                         Traceback (most recent call last)",
      "\u001b[0;32m/var/folders/y5/n8jxv2j53tb33c7f76r2prvc0000gn/T/ipykernel_79270/1782800685.py\u001b[0m in \u001b[0;36m<module>\u001b[0;34m\u001b[0m\n\u001b[1;32m     11\u001b[0m     \u001b[0mcloud_settings\u001b[0m\u001b[0;34m=\u001b[0m\u001b[0mcloud_settings\u001b[0m\u001b[0;34m,\u001b[0m\u001b[0;34m\u001b[0m\u001b[0;34m\u001b[0m\u001b[0m\n\u001b[1;32m     12\u001b[0m )\n\u001b[0;32m---> 13\u001b[0;31m \u001b[0mqueue\u001b[0m\u001b[0;34m.\u001b[0m\u001b[0mrun\u001b[0m\u001b[0;34m(\u001b[0m\u001b[0;34m)\u001b[0m\u001b[0;34m\u001b[0m\u001b[0;34m\u001b[0m\u001b[0m\n\u001b[0m",
      "\u001b[0;32m~/Dropbox/core-code/mle-infrastructure/mle-scheduler/mle_scheduler/job_queue.py\u001b[0m in \u001b[0;36mrun\u001b[0;34m(self)\u001b[0m\n\u001b[1;32m    249\u001b[0m             \u001b[0;32mif\u001b[0m \u001b[0;34m\"clean_up_remote_dir\"\u001b[0m \u001b[0;32min\u001b[0m \u001b[0mself\u001b[0m\u001b[0;34m.\u001b[0m\u001b[0mcloud_settings\u001b[0m\u001b[0;34m.\u001b[0m\u001b[0mkeys\u001b[0m\u001b[0;34m(\u001b[0m\u001b[0;34m)\u001b[0m\u001b[0;34m:\u001b[0m\u001b[0;34m\u001b[0m\u001b[0;34m\u001b[0m\u001b[0m\n\u001b[1;32m    250\u001b[0m                 \u001b[0;32mif\u001b[0m \u001b[0mself\u001b[0m\u001b[0;34m.\u001b[0m\u001b[0mcloud_settings\u001b[0m\u001b[0;34m[\u001b[0m\u001b[0;34m\"clean_up_remote_dir\"\u001b[0m\u001b[0;34m]\u001b[0m\u001b[0;34m:\u001b[0m\u001b[0;34m\u001b[0m\u001b[0;34m\u001b[0m\u001b[0m\n\u001b[0;32m--> 251\u001b[0;31m                     \u001b[0mdelete_dir_gcp\u001b[0m\u001b[0;34m(\u001b[0m\u001b[0mself\u001b[0m\u001b[0;34m.\u001b[0m\u001b[0mssh_settings\u001b[0m\u001b[0;34m)\u001b[0m\u001b[0;34m\u001b[0m\u001b[0;34m\u001b[0m\u001b[0m\n\u001b[0m\u001b[1;32m    252\u001b[0m \u001b[0;34m\u001b[0m\u001b[0m\n\u001b[1;32m    253\u001b[0m     \u001b[0;32mdef\u001b[0m \u001b[0mlaunch\u001b[0m\u001b[0;34m(\u001b[0m\u001b[0mself\u001b[0m\u001b[0;34m,\u001b[0m \u001b[0mqueue_counter\u001b[0m\u001b[0;34m)\u001b[0m\u001b[0;34m:\u001b[0m\u001b[0;34m\u001b[0m\u001b[0;34m\u001b[0m\u001b[0m\n",
      "\u001b[0;32m~/Dropbox/core-code/mle-infrastructure/mle-scheduler/mle_scheduler/cloud/gcp/file_manage_gcp.py\u001b[0m in \u001b[0;36mdelete_dir_gcp\u001b[0;34m(cloud_settings, number_of_connect_tries)\u001b[0m\n\u001b[1;32m    122\u001b[0m \u001b[0;34m\u001b[0m\u001b[0m\n\u001b[1;32m    123\u001b[0m     \u001b[0;31m# Delete all files in directory\u001b[0m\u001b[0;34m\u001b[0m\u001b[0;34m\u001b[0m\u001b[0;34m\u001b[0m\u001b[0m\n\u001b[0;32m--> 124\u001b[0;31m     \u001b[0mblobs\u001b[0m \u001b[0;34m=\u001b[0m \u001b[0mbucket\u001b[0m\u001b[0;34m.\u001b[0m\u001b[0mlist_blobs\u001b[0m\u001b[0;34m(\u001b[0m\u001b[0mprefix\u001b[0m\u001b[0;34m=\u001b[0m\u001b[0mcloud_settings\u001b[0m\u001b[0;34m[\u001b[0m\u001b[0;34m\"remote_dir\"\u001b[0m\u001b[0;34m]\u001b[0m\u001b[0;34m)\u001b[0m\u001b[0;34m\u001b[0m\u001b[0;34m\u001b[0m\u001b[0m\n\u001b[0m\u001b[1;32m    125\u001b[0m     \u001b[0;32mfor\u001b[0m \u001b[0mblob\u001b[0m \u001b[0;32min\u001b[0m \u001b[0mblobs\u001b[0m\u001b[0;34m:\u001b[0m\u001b[0;34m\u001b[0m\u001b[0;34m\u001b[0m\u001b[0m\n\u001b[1;32m    126\u001b[0m         \u001b[0;32mtry\u001b[0m\u001b[0;34m:\u001b[0m\u001b[0;34m\u001b[0m\u001b[0;34m\u001b[0m\u001b[0m\n",
      "\u001b[0;31mUnboundLocalError\u001b[0m: local variable 'bucket' referenced before assignment"
     ]
    }
   ],
   "source": [
    "cloud_settings[\"start_up_copy_dir\"] = True\n",
    "cloud_settings[\"clean_up_remote_dir\"] = True\n",
    "\n",
    "queue = MLEQueue(\n",
    "    resource_to_run=\"gcp-cloud\",\n",
    "    job_filename=\"train.py\",\n",
    "    config_filenames=[\"base_config_1.yaml\", \"base_config_2.yaml\"],\n",
    "    random_seeds=[0, 1],\n",
    "    experiment_dir=\"logs_gcp_queue\",\n",
    "    job_arguments=job_args,\n",
    "    cloud_settings=cloud_settings,\n",
    ")\n",
    "queue.run()"
   ]
  },
  {
   "cell_type": "markdown",
   "id": "f62303fa-2961-423c-ac52-22c19e9deeea",
   "metadata": {},
   "source": [
    "# Slack Notification for Real-Time Queue Status\n",
    "\n",
    "You can also get a Slack Bot notification of the current status of the queue. This is powered by the [`slack-clusterbot`](https://github.com/sprekelerlab/slack-clusterbot) package and you can follow these instructions to setup a bot for your favorite workspace [here](https://github.com/sprekelerlab/slack-clusterbot/wiki/Installation). After you have obtained your authentication token it is as simple as providing the token and your user name as inputs. Below you can find the slack chat output:"
   ]
  },
  {
   "cell_type": "code",
   "execution_count": 27,
   "id": "26418d40-b771-4ed1-ba50-0e5826bcfc8c",
   "metadata": {},
   "outputs": [
    {
     "name": "stderr",
     "output_type": "stream",
     "text": [
      "100%|█████████████████████████████████████████████| 4/4 [00:03<00:00,  1.08it/s]     \n"
     ]
    }
   ],
   "source": [
    "import os\n",
    "queue = MLEQueue(resource_to_run=\"local\",\n",
    "                 job_filename=\"train.py\",\n",
    "                 config_filenames=[\"base_config_1.yaml\",\n",
    "                                   \"base_config_2.yaml\"],\n",
    "                 random_seeds=[0, 1],\n",
    "                 experiment_dir=\"logs_queue\",\n",
    "                 job_arguments={\"env_name\": \"mle-toolbox\"},\n",
    "                 slack_user_name=os.environ[\"SLACK_USER_NAME\"],\n",
    "                 slack_auth_token=os.environ[\"SLACK_AUTH_TOKEN\"])\n",
    "queue.run()"
   ]
  },
  {
   "cell_type": "markdown",
   "id": "34745512-a550-4f01-839f-e2eeb4237e7e",
   "metadata": {},
   "source": [
    "![](https://github.com/mle-infrastructure/mle-scheduler/blob/main/docs/slackbot_output.png?raw=true)"
   ]
  },
  {
   "cell_type": "markdown",
   "id": "6bce58fc-7f08-4226-a6a9-e5cbee9896a9",
   "metadata": {},
   "source": [
    "# Automatic Log Merging & Plotting with `mle-logging`\n",
    "\n",
    "The `mle-scheduler` is part of the broader `mle-infrastructure`. It therefore has some synergetic features with other packages such as the already mentioned `mle-logging` or `mle-hyperopt`. One of such features is automatic log aggregation after successful completion of all random seeds in `MLEQueue`. All you have to do is supply the option `automerge_seeds`: "
   ]
  },
  {
   "cell_type": "code",
   "execution_count": 28,
   "id": "f9e0f444-e7d4-4f42-a32a-f50351cdb052",
   "metadata": {},
   "outputs": [
    {
     "name": "stderr",
     "output_type": "stream",
     "text": [
      "100%|█████████████████████████████████████████████| 4/4 [00:02<00:00,  1.35it/s]     \n"
     ]
    }
   ],
   "source": [
    "queue = MLEQueue(resource_to_run=\"local\",\n",
    "                 job_filename=\"train.py\",\n",
    "                 config_filenames=[\"base_config_1.yaml\",\n",
    "                                   \"base_config_2.yaml\"],\n",
    "                 random_seeds=[0, 1],\n",
    "                 experiment_dir=\"logs_merge\",\n",
    "                 automerge_seeds=True)\n",
    "queue.run()"
   ]
  },
  {
   "cell_type": "markdown",
   "id": "048ced8c-d2be-4fb1-bfdb-a5e5be24e8d1",
   "metadata": {},
   "source": [
    "You can then easily load and visualize the results as follows:"
   ]
  },
  {
   "cell_type": "code",
   "execution_count": 29,
   "id": "8d18903d-d0a8-49d1-a741-d03d3736ea7e",
   "metadata": {},
   "outputs": [
    {
     "data": {
      "text/plain": [
       "(<Figure size 648x432 with 1 Axes>,\n",
       " <AxesSubplot:title={'center':'train_loss, test_loss'}, xlabel='num_epochs', ylabel='train_loss, test_loss'>)"
      ]
     },
     "execution_count": 29,
     "metadata": {},
     "output_type": "execute_result"
    },
    {
     "data": {
      "image/png": "[encoded data removed]",
      "text/plain": [
       "<Figure size 648x432 with 1 Axes>"
      ]
     },
     "metadata": {
      "image/png": {
       "height": 393,
       "width": 610
      }
     },
     "output_type": "display_data"
    }
   ],
   "source": [
    "from mle_logging import load_log\n",
    "import datetime\n",
    "date = datetime.datetime.today().strftime(\"%Y-%m-%d\")[2:]\n",
    "log = load_log(f\"logs_merge/{date}_base_config_1\")\n",
    "log.plot([\"train_loss\", \"test_loss\"])"
   ]
  },
  {
   "cell_type": "markdown",
   "id": "533fe36d-4602-492d-bc5f-4297e38c0e9e",
   "metadata": {},
   "source": [
    "# Search Jobs with `mle-hyperopt` Configurations"
   ]
  },
  {
   "cell_type": "markdown",
   "id": "669cf107-e773-4007-b309-52eecca1527b",
   "metadata": {},
   "source": [
    "Finally, `mle-scheduler` integrates smoothly with the hyperparameter search tool `mle-hyperopt`. After defining a search strategy, `mle-hyperopt` allows us to get a set of candidate hyperparameters and to export them as configuration files in one go:"
   ]
  },
  {
   "cell_type": "code",
   "execution_count": 30,
   "id": "adb66ba4-ce5c-40c2-81c9-d438adf022aa",
   "metadata": {},
   "outputs": [
    {
     "name": "stdout",
     "output_type": "stream",
     "text": [
      "MLE-Hyperopt Stored Configurations: ['eval_0.yaml', 'eval_1.yaml']\n"
     ]
    }
   ],
   "source": [
    "try:\n",
    "    import mle_hyperopt\n",
    "except:\n",
    "    !pip install -q mle-hyperopt\n",
    "    import mle_hyperopt\n",
    "\n",
    "from mle_hyperopt import RandomSearch\n",
    "\n",
    "# Instantiate random search class\n",
    "strategy = RandomSearch(real={\"lrate\": {\"begin\": 0.1,\n",
    "                                        \"end\": 0.5,\n",
    "                                        \"prior\": \"log-uniform\"}},\n",
    "                        integer={\"batch_size\": {\"begin\": 1,\n",
    "                                                \"end\": 5,\n",
    "                                                \"prior\": \"uniform\"}},\n",
    "                        categorical={\"arch\": [\"mlp\", \"cnn\"]})\n",
    "\n",
    "# Simple ask - eval - tell API\n",
    "configs, config_fnames = strategy.ask(2, store=True)\n",
    "print(f\"MLE-Hyperopt Stored Configurations: {config_fnames}\")"
   ]
  },
  {
   "cell_type": "markdown",
   "id": "c8877169-8b2a-4760-8327-1e0affcc6ce0",
   "metadata": {},
   "source": [
    "Next we simply forward the configuration filenames to the `MLEQueue` and voilà we have a batch of search configurations running:"
   ]
  },
  {
   "cell_type": "code",
   "execution_count": 31,
   "id": "3fea5b65-ee26-42a7-bf35-03addd3ec8ec",
   "metadata": {},
   "outputs": [
    {
     "name": "stderr",
     "output_type": "stream",
     "text": [
      "100%|█████████████████████████████████████████████| 2/2 [00:01<00:00,  1.21it/s]     \n"
     ]
    }
   ],
   "source": [
    "queue = MLEQueue(resource_to_run=\"local\",\n",
    "                 job_filename=\"train.py\",\n",
    "                 config_filenames=config_fnames,\n",
    "                 experiment_dir=\"logs_search\")\n",
    "queue.run()"
   ]
  },
  {
   "cell_type": "markdown",
   "id": "8d72454b-4c30-4fa5-a509-e30cb0c869a5",
   "metadata": {},
   "source": [
    "Give it a try and let me know what you think! If you find a bug or are missing your favourite feature, feel free to contact me [@RobertTLange](https://twitter.com/RobertTLange) or create an issue!"
   ]
  }
 ],
 "metadata": {
  "kernelspec": {
   "display_name": "Python3 (mle-toolbox)",
   "language": "python",
   "name": "mle-toolbox"
  },
  "language_info": {
   "codemirror_mode": {
    "name": "ipython",
    "version": 3
   },
   "file_extension": ".py",
   "mimetype": "text/x-python",
   "name": "python",
   "nbconvert_exporter": "python",
   "pygments_lexer": "ipython3",
   "version": "3.9.6"
  }
 },
 "nbformat": 4,
 "nbformat_minor": 5
}
